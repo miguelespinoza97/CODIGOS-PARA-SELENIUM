{
 "cells": [
  {
   "cell_type": "code",
   "execution_count": 4,
   "metadata": {},
   "outputs": [],
   "source": [
    "from selenium import webdriver\n",
    "from selenium.webdriver.support.ui import WebDriverWait\n",
    "from selenium.webdriver.support import expected_conditions as EC\n",
    "from selenium.webdriver.common.by import By\n",
    "import time\n",
    "import pandas as pd\n",
    "from pandas import Series,DataFrame\n",
    "import numpy as np\n",
    "import re\n",
    "from selenium.common.exceptions import NoSuchElementException"
   ]
  },
  {
   "cell_type": "code",
   "execution_count": 20,
   "metadata": {},
   "outputs": [],
   "source": [
    "options = webdriver.ChromeOptions()\n",
    "options.add_argument(\"--start-maximized\")\n",
    "options.add_argument(\"--disable-extensions\")   "
   ]
  },
  {
   "cell_type": "code",
   "execution_count": 21,
   "metadata": {},
   "outputs": [],
   "source": [
    "driver_path = r\"C:\\Users\\ANZONY\\Downloads\\chromedriver.exe\"\n",
    "driver = webdriver.Chrome(driver_path , options =options)\n",
    "driver.get('https://www.convocatoriasdetrabajo.com/convocatorias-cas-vigentes.php')\n",
    "time.sleep(1) "
   ]
  },
  {
   "cell_type": "code",
   "execution_count": 22,
   "metadata": {},
   "outputs": [],
   "source": [
    "i = 1\n",
    "size_sgt_caja = 'No esta vacio'\n",
    "\n",
    "convocatorias = []\n",
    "entidades = []\n",
    "departamentos = []\n",
    "remuneraciones = []      \n"
   ]
  },
  {
   "cell_type": "code",
   "execution_count": 23,
   "metadata": {},
   "outputs": [
    {
     "ename": "IndentationError",
     "evalue": "expected an indented block (<ipython-input-23-43c4359fe6f9>, line 3)",
     "output_type": "error",
     "traceback": [
      "\u001b[1;36m  File \u001b[1;32m\"<ipython-input-23-43c4359fe6f9>\"\u001b[1;36m, line \u001b[1;32m3\u001b[0m\n\u001b[1;33m    datas = driver.find_elements(By.XPATH, f'/html/body/section/section/article[{i}]')\u001b[0m\n\u001b[1;37m    ^\u001b[0m\n\u001b[1;31mIndentationError\u001b[0m\u001b[1;31m:\u001b[0m expected an indented block\n"
     ]
    }
   ],
   "source": [
    "while size_sgt_caja != 0:\n",
    "\n",
    "datas = driver.find_elements(By.XPATH, f'/html/body/section/section/article[{i}]')\n",
    "    \n",
    "    convocatoria=datas[0].find_element(By.XPATH, f'/html/body/section/section/article[{i}]/h4/a').text\n",
    "    \n",
    "    primero_match = re.search(r\".*:*\\s^([0-9]+.*)\", convocatoria)\n",
    "    segundo_match = re.search(r\".*:\\s(.*)\", convocatoria)\n",
    "    tercero_match = re.search(r\"[0-9]+.*\", convocatoria)\n",
    "    \n",
    "    if match:\n",
    "        conv = match.group(1)\n",
    "    elif match2:\n",
    "        conv = match2.group(1)\n",
    "    elif match3:\n",
    "        conv = match3.group(0)\n",
    "    else:\n",
    "        conv = \"\"   \n",
    "    \n",
    "    convocatorias.append( convocatoria )\n",
    "    print(convocatoria)\n",
    "    \n",
    "    entidad=datas[0].find_element(By.XPATH, f'/html/body/section[1]/section/article[{i}]/div[2]/div/p[1]').text\n",
    "    match = re.search(r\".*:\\s(.*)\", entidad)\n",
    "    if match:\n",
    "        ent = match.group(1)\n",
    "    else:\n",
    "        ent = \"\"\n",
    "    \n",
    "    entidades.append( ent )\n",
    "    print(ent)\n",
    "    \n",
    "    departamento =datas[0].find_element(By.XPATH, f'/html/body/section[1]/section/article[{i}]/div[2]/div/p[2]').text\n",
    "    departamentos.append( departamento )\n",
    "    print(departamento)\n",
    "    \n",
    "    remuneracion =datas[0].find_element(By.XPATH, f'/html/body/section[1]/section/article[{i}]/div[2]/div/p[3]').text\n",
    "    remuneraciones.append( remuneracion )\n",
    "    print(remu)\n",
    "    \n",
    "    i = i + 1\n",
    "    print(i)\n",
    "    \n",
    "    sgt_caja = driver.find_elements(By.XPATH, f'/html/body/section/section/article[{i}]')\n",
    "    size_sgt_caja = len( sgt_caja )\n",
    "    print(size_sgt_caja)"
   ]
  },
  {
   "cell_type": "code",
   "execution_count": null,
   "metadata": {},
   "outputs": [],
   "source": []
  },
  {
   "cell_type": "code",
   "execution_count": null,
   "metadata": {},
   "outputs": [],
   "source": []
  }
 ],
 "metadata": {
  "kernelspec": {
   "display_name": "Python 3",
   "language": "python",
   "name": "python3"
  },
  "language_info": {
   "codemirror_mode": {
    "name": "ipython",
    "version": 3
   },
   "file_extension": ".py",
   "mimetype": "text/x-python",
   "name": "python",
   "nbconvert_exporter": "python",
   "pygments_lexer": "ipython3",
   "version": "3.8.5"
  }
 },
 "nbformat": 4,
 "nbformat_minor": 4
}
