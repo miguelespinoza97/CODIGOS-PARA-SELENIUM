{
 "cells": [
  {
   "cell_type": "code",
   "execution_count": 9,
   "metadata": {},
   "outputs": [],
   "source": [
    "from selenium import webdriver\n",
    "from selenium.webdriver.support.ui import WebDriverWait\n",
    "from selenium.webdriver.support import expected_conditions as EC\n",
    "from selenium.webdriver.common.by import By\n",
    "import time\n",
    "import pandas as pd\n"
   ]
  },
  {
   "cell_type": "code",
   "execution_count": 11,
   "metadata": {},
   "outputs": [],
   "source": [
    "options =  webdriver.ChromeOptions()\n",
    "options.add_argument('--start-maximized')\n",
    "options.add_argument('--disable-extensions')"
   ]
  },
  {
   "cell_type": "code",
   "execution_count": 31,
   "metadata": {},
   "outputs": [],
   "source": [
    "driver_path = \"C:/Users/SAD/Downloads/drives_ch/chromedriver.exe\"\n",
    "driver = webdriver.Chrome(\"C:/Users/SAD/Downloads/drives_ch/chromedriver.exe\" , options =options)\n",
    "driver.get('https://github.com/')\n",
    "time.sleep(1)\n",
    "driver.find_element(By.XPATH,'/html/body/div[1]/header/div/div[2]/div[2]/a[2]').click()\n",
    "driver.find_element(By.XPATH,'/html/body/div[1]/header/div/div[2]/div[2]/a').click()\n",
    "driver.find_element(By.XPATH,'//*[@id=\"login_field\"]').send_keys(\"miguelespinozaq.97@gmail.com\")\n",
    "driver.find_element(By.XPATH,'//*[@id=\"password\"]').send_keys(\"maestrolo98\")\n",
    "driver.find_element(By.XPATH,'//*[@id=\"login\"]/div[4]/form/input[14]').click()\n",
    "driver.find_element(By.XPATH,'/html/body/div[1]/header/div[7]/details/summary/img').click()\n",
    "time.sleep(1)\n",
    "driver.find_element(By.XPATH,'/html/body/div[1]/header/div[7]/details/details-menu/a[3]').click()\n",
    "driver.find_element(By.XPATH,'//*[@id=\"projects-results\"]/div/a').click()\n",
    "driver.find_element(By.XPATH,'//*[@id=\"project_name\"]').send_keys(\"practica_selenium\")\n",
    "time.sleep(1)\n",
    "driver.find_element(By.XPATH,'//*[@id=\"project_body\"]').send_keys(\"practicas\")\n",
    "driver.find_element(By.XPATH,'//*[@id=\"project_public_true\"]').click()\n",
    "driver.find_element(By.XPATH,'/html/body/div[4]/main/div/form/div[4]/button').click()\n",
    "\n",
    "\n"
   ]
  }
 ],
 "metadata": {
  "kernelspec": {
   "display_name": "Python 3",
   "language": "python",
   "name": "python3"
  },
  "language_info": {
   "codemirror_mode": {
    "name": "ipython",
    "version": 3
   },
   "file_extension": ".py",
   "mimetype": "text/x-python",
   "name": "python",
   "nbconvert_exporter": "python",
   "pygments_lexer": "ipython3",
   "version": "3.8.5"
  }
 },
 "nbformat": 4,
 "nbformat_minor": 4
}
